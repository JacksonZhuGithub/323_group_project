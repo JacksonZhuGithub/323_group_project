{
 "cells": [
  {
   "cell_type": "markdown",
   "id": "1bffd62d-9324-495f-9ddb-933c36025a4f",
   "metadata": {},
   "source": [
    "# Project"
   ]
  },
  {
   "cell_type": "markdown",
   "id": "c56ba806-8d0c-47a1-b738-a58f0e66de2c",
   "metadata": {},
   "source": [
    "## Group member: Jun Gu (34124974), Keqing Wang (35503457), Zhekai Zhu (29860764)"
   ]
  },
  {
   "cell_type": "code",
   "execution_count": null,
   "id": "4d5addf2-b247-4ff8-a550-3a35912b2863",
   "metadata": {},
   "outputs": [],
   "source": []
  }
 ],
 "metadata": {
  "kernelspec": {
   "display_name": "Python 3 (ipykernel)",
   "language": "python",
   "name": "python3"
  },
  "language_info": {
   "codemirror_mode": {
    "name": "ipython",
    "version": 3
   },
   "file_extension": ".py",
   "mimetype": "text/x-python",
   "name": "python",
   "nbconvert_exporter": "python",
   "pygments_lexer": "ipython3",
   "version": "3.10.9"
  }
 },
 "nbformat": 4,
 "nbformat_minor": 5
}
